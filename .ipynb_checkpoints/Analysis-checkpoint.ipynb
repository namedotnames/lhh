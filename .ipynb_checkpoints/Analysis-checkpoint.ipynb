{
 "cells": [
  {
   "cell_type": "markdown",
   "metadata": {},
   "source": [
    "# Guns In America "
   ]
  },
  {
   "cell_type": "markdown",
   "metadata": {},
   "source": [
    "### Lily Hoagland"
   ]
  },
  {
   "cell_type": "markdown",
   "metadata": {},
   "source": [
    "How do firearms contribute to suicide statistics in America? I looked at national statistics and found different ways guns impact the suicide rate. "
   ]
  },
  {
   "cell_type": "markdown",
   "metadata": {},
   "source": [
    "From the CDC:"
   ]
  },
  {
   "cell_type": "markdown",
   "metadata": {},
   "source": [
    "Year\tGun deaths by homicide\tGun deaths by suicide\n",
    "1999\t10828\t16599\n",
    "2000\t10801\t16586\n",
    "2001\t11348\t16869\n",
    "2002\t11829\t17108\n",
    "2003\t11920\t16907\n",
    "2004\t11624\t16750\n",
    "2005\t12352\t17002\n",
    "2006\t12791\t16883\n",
    "2007\t12632\t17352\n",
    "2008\t12179\t18223\n",
    "2009\t11493\t18735\n",
    "2010\t11078\t19392\n",
    "2011\t11068\t19990\n",
    "2012\t11622\t20666\n",
    "2013\t11208\t21175\n",
    "2014\t11008\t21386\n",
    "2015\t12979\t22018\n",
    "2016\t14415\t22938\n",
    "2017\t14542\t23854"
   ]
  },
  {
   "cell_type": "markdown",
   "metadata": {},
   "source": [
    "From the Dept VA:"
   ]
  },
  {
   "cell_type": "markdown",
   "metadata": {},
   "source": [
    "Year\tMethod\tVeteran Suicides\n",
    "2009\tSuffocation\t895\n",
    "2009\tPoisoning\t764\n",
    "2009\tFirearms\t4168\n",
    "2009\tOther\t345\n",
    "2010\tSuffocation\t887\n",
    "2010\tPoisoning\t806\n",
    "2010\tFirearms\t4,162\n",
    "2010\tOther\t303\n",
    "2011\tSuffocation\t936\n",
    "2011\tPoisoning\t742\n",
    "2011\tFirearms\t4,112\n",
    "2011\tOther\t326\n",
    "2012\tSuffocation\t929\n",
    "2012\tPoisoning\t714\n",
    "2012\tFirearms\t4,081\n",
    "2012\tOther\t341\n",
    "2013\tSuffocation\t936\n",
    "2013\tPoisoning\t692\n",
    "2013\tFirearms\t4,172\n",
    "2013\tOther\t332\n",
    "2014\tSuffocation\t1,042\n",
    "2014\tPoisoning\t725\n",
    "2014\tFirearms\t4,207\n",
    "2014\tOther\t298\n",
    "2015\tSuffocation\t982\n",
    "2015\tPoisoning\t699\n",
    "2015\tFirearms\t4,196\n",
    "2015\tOther\t350\n",
    "2016\tSuffocation\t907\n",
    "2016\tPoisoning\t635\n",
    "2016\tFirearms\t4,165\n",
    "2016\tOther\t303\n",
    "2017\tSuffocation\t969\n",
    "2017\tPoisoning\t605\n",
    "2017\tFirearms\t4,258\n",
    "2017\tOther\t307"
   ]
  },
  {
   "cell_type": "markdown",
   "metadata": {},
   "source": [
    "Used Flourish for visualization and copy the embed code in my hbs file."
   ]
  },
  {
   "cell_type": "markdown",
   "metadata": {},
   "source": [
    "Example:"
   ]
  },
  {
   "cell_type": "code",
   "execution_count": 5,
   "metadata": {},
   "outputs": [
    {
     "ename": "SyntaxError",
     "evalue": "invalid syntax (<ipython-input-5-d1dd8b6c32f6>, line 1)",
     "output_type": "error",
     "traceback": [
      "\u001b[0;36m  File \u001b[0;32m\"<ipython-input-5-d1dd8b6c32f6>\"\u001b[0;36m, line \u001b[0;32m1\u001b[0m\n\u001b[0;31m    <div class=\"flourish-embed\" data-src=\"visualisation/EXAMPLE\"></div><script src=\"https://public.flourish.studio/resources/embed.js\"></script>\u001b[0m\n\u001b[0m    ^\u001b[0m\n\u001b[0;31mSyntaxError\u001b[0m\u001b[0;31m:\u001b[0m invalid syntax\n"
     ]
    }
   ],
   "source": [
    "<div class=\"flourish-embed\" data-src=\"visualisation/EXAMPLE\"></div>\n",
    "<script src=\"https://public.flourish.studio/resources/embed.js\"></script>"
   ]
  },
  {
   "cell_type": "code",
   "execution_count": null,
   "metadata": {},
   "outputs": [],
   "source": []
  }
 ],
 "metadata": {
  "kernelspec": {
   "display_name": "Python 3",
   "language": "python",
   "name": "python3"
  },
  "language_info": {
   "codemirror_mode": {
    "name": "ipython",
    "version": 3
   },
   "file_extension": ".py",
   "mimetype": "text/x-python",
   "name": "python",
   "nbconvert_exporter": "python",
   "pygments_lexer": "ipython3",
   "version": "3.7.1"
  }
 },
 "nbformat": 4,
 "nbformat_minor": 2
}
